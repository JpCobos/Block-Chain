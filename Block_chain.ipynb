{
 "cells": [
  {
   "cell_type": "code",
   "execution_count": 11,
   "metadata": {},
   "outputs": [],
   "source": [
    "#Description: This program simulates a blockchain"
   ]
  },
  {
   "cell_type": "code",
   "execution_count": 12,
   "metadata": {},
   "outputs": [],
   "source": [
    "#Import the library\n",
    "import hashlib"
   ]
  },
  {
   "cell_type": "code",
   "execution_count": 13,
   "metadata": {},
   "outputs": [],
   "source": [
    "#Create a Block class\n",
    "class Block:\n",
    "    #Create a constructor for the Block class:\n",
    "    def __init__(self,data,prev_hash):\n",
    "        self.data = data\n",
    "        self.prev_hash = prev_hash\n",
    "        self.hash = self.calc_hash()\n",
    "    #Create a method that calculates the hash using SHA-256\n",
    "    def calc_hash(self):\n",
    "        sha = hashlib.sha256()\n",
    "        sha.update(self.data.encode('utf-8'))\n",
    "        return sha.hexdigest()"
   ]
  },
  {
   "cell_type": "code",
   "execution_count": 14,
   "metadata": {},
   "outputs": [],
   "source": [
    "#Create the Blockchain class\n",
    "class Blockchain:\n",
    "    #Create a cosntructor for the Blockcahin class\n",
    "    def __init__(self):\n",
    "        self.chain = [self.create_genesis_block()]\n",
    "\n",
    "    #Create a method that creates the first block in the blockchain also known as the 'Genesis Block'\n",
    "    def create_genesis_block(self):\n",
    "        return Block(\"Genesis Block\",\"0\")\n",
    "    #Create a method that creates a new block and add it to the Block chain (aka the list)\n",
    "    def add_block(self,data):\n",
    "        prev_block = self.chain[-1]\n",
    "        new_block = Block(data,prev_block.hash)\n",
    "        self.chain.append(new_block)\n",
    "        \n",
    "\n",
    "\n",
    "        "
   ]
  },
  {
   "cell_type": "code",
   "execution_count": 17,
   "metadata": {},
   "outputs": [],
   "source": [
    "#Test the Blockchain\n",
    "blockchain = Blockchain()"
   ]
  },
  {
   "cell_type": "code",
   "execution_count": 18,
   "metadata": {},
   "outputs": [],
   "source": [
    "#Add blocks to the Blockchain\n",
    "blockchain.add_block('First block')\n",
    "blockchain.add_block('Second block')\n",
    "blockchain.add_block('Third block')"
   ]
  },
  {
   "cell_type": "code",
   "execution_count": 19,
   "metadata": {},
   "outputs": [
    {
     "name": "stdout",
     "output_type": "stream",
     "text": [
      "Blockchain:\n",
      "Data:  Genesis Block\n",
      "Previos hash:  0\n",
      "Hash:  89eb0ac031a63d2421cd05a2fbe41f3ea35f5c3712ca839cbf6b85c4ee07b7a3\n",
      "\n",
      "Data:  First block\n",
      "Previos hash:  89eb0ac031a63d2421cd05a2fbe41f3ea35f5c3712ca839cbf6b85c4ee07b7a3\n",
      "Hash:  876fb923a443ba6afe5fb32dd79961e85be2b582cf74c233842b630ae16fe4d9\n",
      "\n",
      "Data:  Second block\n",
      "Previos hash:  876fb923a443ba6afe5fb32dd79961e85be2b582cf74c233842b630ae16fe4d9\n",
      "Hash:  8e2fb9e02898feb024dff05ee0b27fd5ea0a448e252d975e6ec5f7b0a252a6cd\n",
      "\n",
      "Data:  Third block\n",
      "Previos hash:  8e2fb9e02898feb024dff05ee0b27fd5ea0a448e252d975e6ec5f7b0a252a6cd\n",
      "Hash:  06e369fbfbe5362a8115a5c6f3e2d3ec7292cc4272052dcc3280898e3206208d\n",
      "\n"
     ]
    }
   ],
   "source": [
    "#Print and show the blockchain\n",
    "print('Blockchain:')\n",
    "for block in blockchain.chain:\n",
    "    print('Data: ',block.data)\n",
    "    print('Previos hash: ',block.prev_hash)\n",
    "    print('Hash: ',block.hash)\n",
    "    print()"
   ]
  },
  {
   "cell_type": "code",
   "execution_count": null,
   "metadata": {},
   "outputs": [],
   "source": []
  }
 ],
 "metadata": {
  "kernelspec": {
   "display_name": "Python 3.10.9 64-bit",
   "language": "python",
   "name": "python3"
  },
  "language_info": {
   "codemirror_mode": {
    "name": "ipython",
    "version": 3
   },
   "file_extension": ".py",
   "mimetype": "text/x-python",
   "name": "python",
   "nbconvert_exporter": "python",
   "pygments_lexer": "ipython3",
   "version": "3.10.9"
  },
  "orig_nbformat": 4,
  "vscode": {
   "interpreter": {
    "hash": "d2152fd7f0bbc62aa1baff8c990435d1e2c7175d001561303988032604c11a48"
   }
  }
 },
 "nbformat": 4,
 "nbformat_minor": 2
}
